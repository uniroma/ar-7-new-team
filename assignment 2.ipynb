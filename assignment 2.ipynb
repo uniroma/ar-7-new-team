{
  "nbformat": 4,
  "nbformat_minor": 0,
  "metadata": {
    "colab": {
      "provenance": []
    },
    "kernelspec": {
      "name": "python3",
      "display_name": "Python 3"
    },
    "language_info": {
      "name": "python"
    }
  },
  "cells": [
    {
      "cell_type": "code",
      "source": [
        "import numpy as np\n",
        "from scipy.stats import norm\n",
        "\n",
        "def ar7_conditional_likelihood(params, data):\n",
        "    \"\"\"\n",
        "    Calculate the conditional likelihood of an AR(7) model.\n",
        "\n",
        "    Parameters:\n",
        "        params (list): Parameters [phi1, phi2, ..., phi7, sigma^2].\n",
        "        data (array): Array of observed data.\n",
        "\n",
        "    Returns:\n",
        "        float: Log likelihood value.\n",
        "    \"\"\"\n",
        "    phi = params[:-1]\n",
        "    sigma_squared = params[-1]\n",
        "    n = len(data)\n",
        "    ll = 0\n",
        "\n",
        "    # First 7 observations are given, likelihood starts from the 8th observation\n",
        "    for t in range(7, n):\n",
        "        # Calculate mean based on past 7 observations\n",
        "        mean = np.dot(phi, data[t-7:t][::-1])\n",
        "        # Calculate log likelihood contribution of current observation\n",
        "        ll += norm.logpdf(data[t], loc=mean, scale=np.sqrt(sigma_squared))\n",
        "\n",
        "    return ll\n",
        "\n",
        "def ar7_unconditional_likelihood(params, data):\n",
        "    \"\"\"\n",
        "    Calculate the unconditional likelihood of an AR(7) model.\n",
        "\n",
        "    Parameters:\n",
        "        params (list): Parameters [phi1, phi2, ..., phi7, sigma^2].\n",
        "        data (array): Array of observed data.\n",
        "\n",
        "    Returns:\n",
        "        float: Log likelihood value.\n",
        "    \"\"\"\n",
        "    phi = params[:-1]\n",
        "    sigma_squared = params[-1]\n",
        "    n = len(data)\n",
        "    ll = 0\n",
        "\n",
        "    # Calculate the unconditional mean of the AR(7) process\n",
        "    mu = np.dot(phi, data[:7][::-1])\n",
        "\n",
        "    # Calculate log likelihood for each observation using unconditional mean\n",
        "    for t in range(n):\n",
        "        ll += norm.logpdf(data[t], loc=mu, scale=np.sqrt(sigma_squared))\n",
        "\n",
        "    return ll\n",
        "\n",
        "# Example usage:\n",
        "# Define some sample data and initial parameters\n",
        "data = np.random.normal(size=100)  # Sample data\n",
        "initial_params = [0.5, -0.2, 0.3, -0.1, 0.2, -0.4, 0.1, 1.0]  # Initial parameters\n",
        "\n",
        "# Calculate conditional likelihood\n",
        "conditional_ll = ar7_conditional_likelihood(initial_params, data)\n",
        "print(\"Conditional Log Likelihood:\", conditional_ll)\n",
        "\n",
        "# Calculate unconditional likelihood\n",
        "unconditional_ll = ar7_unconditional_likelihood(initial_params, data)\n",
        "print(\"Unconditional Log Likelihood:\", unconditional_ll)\n",
        "\n",
        "\n",
        "\n",
        "from scipy.optimize import minimize\n",
        "\n",
        "# Define negative log likelihood functions (to be minimized)\n",
        "def neg_log_likelihood_conditional(params, data):\n",
        "    return -ar7_conditional_likelihood(params, data)\n",
        "\n",
        "def neg_log_likelihood_unconditional(params, data):\n",
        "    return -ar7_unconditional_likelihood(params, data)\n",
        "\n",
        "# Example usage:\n",
        "# Define some sample data\n",
        "data = np.random.normal(size=100)  # Sample data\n",
        "\n",
        "# Initial parameter guess\n",
        "initial_params = [0.5, -0.2, 0.3, -0.1, 0.2, -0.4, 0.1, 1.0]\n",
        "\n",
        "# Maximize conditional likelihood\n",
        "result_conditional = minimize(neg_log_likelihood_conditional, initial_params, args=(data,), method='Nelder-Mead')\n",
        "print(\"Maximized Conditional Likelihood Parameters:\", result_conditional.x)\n",
        "\n",
        "# Maximize unconditional likelihood\n",
        "result_unconditional = minimize(neg_log_likelihood_unconditional, initial_params, args=(data,), method='Nelder-Mead')\n",
        "print(\"Maximized Unconditional Likelihood Parameters:\", result_unconditional.x)"
      ],
      "metadata": {
        "colab": {
          "base_uri": "https://localhost:8080/"
        },
        "id": "0hWwCe8InIXY",
        "outputId": "9352c019-4e12-4e1c-94d4-f1f60185dbc1"
      },
      "execution_count": 20,
      "outputs": [
        {
          "output_type": "stream",
          "name": "stdout",
          "text": [
            "Conditional Log Likelihood: -154.53689262763137\n",
            "Unconditional Log Likelihood: -153.93920880543348\n",
            "Maximized Conditional Likelihood Parameters: [-0.07346986 -0.03547142  0.05692031 -0.05809056  0.16042474 -0.08263059\n",
            " -0.2174235   1.01909591]\n",
            "Maximized Unconditional Likelihood Parameters: [ 0.44380101 -0.20525682  0.29614502 -0.09714242  0.1993217  -0.42562501\n",
            "  0.09840292  1.13058778]\n"
          ]
        }
      ]
    },
    {
      "cell_type": "code",
      "source": [
        "import numpy as np\n",
        "import pandas as pd\n",
        "from scipy.optimize import minimize\n",
        "\n",
        "# Step 1: Data Preprocessing\n",
        "# Load FRED-MD dataset\n",
        "data = pd.read_csv('/content/current.csv')  # Replace 'path_to_your_dataset.csv' with the actual path\n",
        "\n",
        "# Assuming 'INDPRO' is the column name for the INDPRO variable\n",
        "indpro = data['INDPRO']\n",
        "\n",
        "# Calculate monthly log differences\n",
        "log_diff_indpro = np.log(indpro).diff().dropna()"
      ],
      "metadata": {
        "id": "EuwflfCPkIbD"
      },
      "execution_count": 4,
      "outputs": []
    },
    {
      "cell_type": "code",
      "source": [
        "# Step 1: Data Preprocessing\n",
        "# Load FRED-MD dataset\n",
        "data = pd.read_csv('/content/current.csv')  # Replace 'path_to_your_dataset.csv' with the actual path\n",
        "\n",
        "# Assuming 'INDPRO' is the column name for the INDPRO variable\n",
        "indpro = data['INDPRO']\n",
        "\n",
        "# Calculate monthly log differences\n",
        "log_diff_indpro = np.log(indpro).diff().dropna()\n"
      ],
      "metadata": {
        "id": "tLBwKCzPkJ9n"
      },
      "execution_count": 5,
      "outputs": []
    },
    {
      "cell_type": "code",
      "source": [
        "# Step 2: Likelihood Functions\n",
        "def ar7_conditional_likelihood(params, data):\n",
        "    phi, sigma_sq = params[:7], params[7]\n",
        "    n = len(data)\n",
        "    ll = 0\n",
        "    for t in range(7, n):\n",
        "        yt = data[t]\n",
        "        mu_t = np.dot(phi, data[t-7:t][::-1])  # Reverse the order to align with AR(7) formula\n",
        "        ll += -0.5 * (np.log(2 * np.pi * sigma_sq) + (yt - mu_t)**2 / sigma_sq)\n",
        "    return ll\n",
        "\n",
        "def ar7_unconditional_likelihood(params, data):\n",
        "    phi, sigma_sq = params[:7], params[7]\n",
        "    n = len(data)\n",
        "    mu0 = np.mean(data[:7])  # Initial mean\n",
        "    ll = -0.5 * (7 * np.log(2 * np.pi * sigma_sq) + np.sum((data[:7] - mu0)**2) / sigma_sq)\n",
        "    for t in range(7, n):\n",
        "        yt = data[t]\n",
        "        mu_t = np.dot(phi, data[t-7:t][::-1])  # Reverse the order to align with AR(7) formula\n",
        "        ll += -0.5 * (np.log(2 * np.pi * sigma_sq) + (yt - mu_t)**2 / sigma_sq)\n",
        "    return ll"
      ],
      "metadata": {
        "id": "4SOESo3-kO63"
      },
      "execution_count": 6,
      "outputs": []
    },
    {
      "cell_type": "code",
      "source": [
        "# Step 3: Parameter Estimation\n",
        "# Initial parameter guess\n",
        "initial_params = np.array([0.5, -0.2, 0.3, -0.1, 0.2, -0.4, 0.1, 1.0])"
      ],
      "metadata": {
        "id": "Al3Kteaskst1"
      },
      "execution_count": 9,
      "outputs": []
    },
    {
      "cell_type": "code",
      "source": [
        "# Maximize conditional likelihood\n",
        "result_conditional = minimize(ar7_conditional_likelihood, initial_params, args=(log_diff_indpro,), method='Nelder-Mead')\n",
        "print(\"Maximized Conditional Likelihood Parameters:\", result_conditional.x)"
      ],
      "metadata": {
        "colab": {
          "base_uri": "https://localhost:8080/"
        },
        "id": "LhrTmCfzkw-J",
        "outputId": "1df1fab1-d463-439c-c37e-a4a3e477e216"
      },
      "execution_count": 10,
      "outputs": [
        {
          "output_type": "stream",
          "name": "stdout",
          "text": [
            "Maximized Conditional Likelihood Parameters: [-1.05849043e+50  1.06746350e+49 -1.73462824e+49  2.64622188e+49\n",
            "  2.68764340e+49 -4.69880006e+49 -3.21491762e+49  6.97645179e+50]\n"
          ]
        }
      ]
    },
    {
      "cell_type": "code",
      "source": [
        "# Maximize conditional likelihood\n",
        "result_conditional = minimize(ar7_conditional_likelihood, initial_params, args=(log_diff_indpro,), method='Nelder-Mead')\n",
        "print(\"Maximized Conditional Likelihood Parameters:\", result_conditional.x)"
      ],
      "metadata": {
        "colab": {
          "base_uri": "https://localhost:8080/"
        },
        "id": "08WnbUhllngN",
        "outputId": "0533bde7-c0d2-4d5e-fc0b-0fd14b01c66c"
      },
      "execution_count": 11,
      "outputs": [
        {
          "output_type": "stream",
          "name": "stdout",
          "text": [
            "Maximized Conditional Likelihood Parameters: [-1.05849043e+50  1.06746350e+49 -1.73462824e+49  2.64622188e+49\n",
            "  2.68764340e+49 -4.69880006e+49 -3.21491762e+49  6.97645179e+50]\n"
          ]
        }
      ]
    },
    {
      "cell_type": "code",
      "source": [
        "import numpy as np\n",
        "\n",
        "# Function to forecast future values\n",
        "def forecast_ar7(params, data, steps):\n",
        "    # Extract parameters\n",
        "    phi = params[:7]\n",
        "    sigma = params[7]\n",
        "\n",
        "    # Initialize forecast array with observed data\n",
        "    forecast = np.copy(data)\n",
        "\n",
        "    # Forecast future values\n",
        "    for i in range(steps):\n",
        "        forecast_next = np.dot(phi, forecast[-7:]) + np.random.normal(0, sigma)\n",
        "        forecast = np.append(forecast, forecast_next)\n",
        "\n",
        "    return forecast"
      ],
      "metadata": {
        "id": "duGT-vi-mYes"
      },
      "execution_count": 12,
      "outputs": []
    },
    {
      "cell_type": "code",
      "source": [
        "# Forecast using conditional likelihood parameters\n",
        "conditional_forecast = forecast_ar7(result_conditional.x, log_diff_indpro, 8)\n",
        "print(\"Conditional Forecast:\", conditional_forecast[-8:])"
      ],
      "metadata": {
        "colab": {
          "base_uri": "https://localhost:8080/"
        },
        "id": "fEJdlSbamdXa",
        "outputId": "2ab4c5bb-cff8-4701-a3a6-551a1854a972"
      },
      "execution_count": 13,
      "outputs": [
        {
          "output_type": "stream",
          "name": "stdout",
          "text": [
            "Conditional Forecast: [ 8.80299487e+049 -2.83009033e+099  9.09850726e+148 -2.92509513e+198\n",
            "  9.40393986e+247 -3.02328919e+297              inf              nan]\n"
          ]
        }
      ]
    },
    {
      "cell_type": "code",
      "source": [
        "# Forecast using unconditional likelihood parameters\n",
        "unconditional_forecast = forecast_ar7(result_unconditional.x, log_diff_indpro, 8)\n",
        "print(\"Unconditional Forecast:\", unconditional_forecast[-8:])"
      ],
      "metadata": {
        "colab": {
          "base_uri": "https://localhost:8080/"
        },
        "id": "0AqHkJ9qn2K1",
        "outputId": "7d04f51c-d7ca-4cc5-fe0c-34e8a93a8c57"
      },
      "execution_count": 27,
      "outputs": [
        {
          "output_type": "stream",
          "name": "stdout",
          "text": [
            "Unconditional Forecast: [ 0.71691925 -0.21380922 -0.71326813  1.87225991  2.99124493 -1.65662091\n",
            " -0.89914961 -0.41533296]\n"
          ]
        }
      ]
    }
  ]
}